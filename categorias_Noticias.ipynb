{
  "nbformat": 4,
  "nbformat_minor": 0,
  "metadata": {
    "colab": {
      "provenance": [],
      "toc_visible": true
    },
    "kernelspec": {
      "name": "python3",
      "display_name": "Python 3"
    },
    "language_info": {
      "name": "python"
    }
  },
  "cells": [
    {
      "cell_type": "markdown",
      "source": [
        "# **Desarrollo: \"Categorias de Noticias\"**\n"
      ],
      "metadata": {
        "id": "Lp28mo_U5ccM"
      }
    },
    {
      "cell_type": "markdown",
      "source": [
        "# **Importanción de Librerías**"
      ],
      "metadata": {
        "id": "z4WkUuxl5qe9"
      }
    },
    {
      "cell_type": "code",
      "source": [
        "# Instalaciones requeridas\n",
        "!pip install gensim\n",
        "!pip install scikit-learn"
      ],
      "metadata": {
        "colab": {
          "base_uri": "https://localhost:8080/",
          "height": 799
        },
        "id": "F1-2XWIfZPHP",
        "outputId": "3e94960b-24e9-4ca9-bab8-1191dcd133f9"
      },
      "execution_count": 6,
      "outputs": [
        {
          "output_type": "stream",
          "name": "stdout",
          "text": [
            "Collecting gensim\n",
            "  Downloading gensim-4.3.3-cp312-cp312-manylinux_2_17_x86_64.manylinux2014_x86_64.whl.metadata (8.1 kB)\n",
            "Collecting numpy<2.0,>=1.18.5 (from gensim)\n",
            "  Downloading numpy-1.26.4-cp312-cp312-manylinux_2_17_x86_64.manylinux2014_x86_64.whl.metadata (61 kB)\n",
            "\u001b[2K     \u001b[90m━━━━━━━━━━━━━━━━━━━━━━━━━━━━━━━━━━━━━━━━\u001b[0m \u001b[32m61.0/61.0 kB\u001b[0m \u001b[31m2.6 MB/s\u001b[0m eta \u001b[36m0:00:00\u001b[0m\n",
            "\u001b[?25hCollecting scipy<1.14.0,>=1.7.0 (from gensim)\n",
            "  Downloading scipy-1.13.1-cp312-cp312-manylinux_2_17_x86_64.manylinux2014_x86_64.whl.metadata (60 kB)\n",
            "\u001b[2K     \u001b[90m━━━━━━━━━━━━━━━━━━━━━━━━━━━━━━━━━━━━━━━━\u001b[0m \u001b[32m60.6/60.6 kB\u001b[0m \u001b[31m4.0 MB/s\u001b[0m eta \u001b[36m0:00:00\u001b[0m\n",
            "\u001b[?25hRequirement already satisfied: smart-open>=1.8.1 in /usr/local/lib/python3.12/dist-packages (from gensim) (7.3.1)\n",
            "Requirement already satisfied: wrapt in /usr/local/lib/python3.12/dist-packages (from smart-open>=1.8.1->gensim) (1.17.3)\n",
            "Downloading gensim-4.3.3-cp312-cp312-manylinux_2_17_x86_64.manylinux2014_x86_64.whl (26.6 MB)\n",
            "\u001b[2K   \u001b[90m━━━━━━━━━━━━━━━━━━━━━━━━━━━━━━━━━━━━━━━━\u001b[0m \u001b[32m26.6/26.6 MB\u001b[0m \u001b[31m61.8 MB/s\u001b[0m eta \u001b[36m0:00:00\u001b[0m\n",
            "\u001b[?25hDownloading numpy-1.26.4-cp312-cp312-manylinux_2_17_x86_64.manylinux2014_x86_64.whl (18.0 MB)\n",
            "\u001b[2K   \u001b[90m━━━━━━━━━━━━━━━━━━━━━━━━━━━━━━━━━━━━━━━━\u001b[0m \u001b[32m18.0/18.0 MB\u001b[0m \u001b[31m24.7 MB/s\u001b[0m eta \u001b[36m0:00:00\u001b[0m\n",
            "\u001b[?25hDownloading scipy-1.13.1-cp312-cp312-manylinux_2_17_x86_64.manylinux2014_x86_64.whl (38.2 MB)\n",
            "\u001b[2K   \u001b[90m━━━━━━━━━━━━━━━━━━━━━━━━━━━━━━━━━━━━━━━━\u001b[0m \u001b[32m38.2/38.2 MB\u001b[0m \u001b[31m36.9 MB/s\u001b[0m eta \u001b[36m0:00:00\u001b[0m\n",
            "\u001b[?25hInstalling collected packages: numpy, scipy, gensim\n",
            "  Attempting uninstall: numpy\n",
            "    Found existing installation: numpy 2.0.2\n",
            "    Uninstalling numpy-2.0.2:\n",
            "      Successfully uninstalled numpy-2.0.2\n",
            "  Attempting uninstall: scipy\n",
            "    Found existing installation: scipy 1.16.2\n",
            "    Uninstalling scipy-1.16.2:\n",
            "      Successfully uninstalled scipy-1.16.2\n",
            "\u001b[31mERROR: pip's dependency resolver does not currently take into account all the packages that are installed. This behaviour is the source of the following dependency conflicts.\n",
            "tsfresh 0.21.1 requires scipy>=1.14.0; python_version >= \"3.10\", but you have scipy 1.13.1 which is incompatible.\n",
            "opencv-contrib-python 4.12.0.88 requires numpy<2.3.0,>=2; python_version >= \"3.9\", but you have numpy 1.26.4 which is incompatible.\n",
            "opencv-python-headless 4.12.0.88 requires numpy<2.3.0,>=2; python_version >= \"3.9\", but you have numpy 1.26.4 which is incompatible.\n",
            "thinc 8.3.6 requires numpy<3.0.0,>=2.0.0, but you have numpy 1.26.4 which is incompatible.\n",
            "opencv-python 4.12.0.88 requires numpy<2.3.0,>=2; python_version >= \"3.9\", but you have numpy 1.26.4 which is incompatible.\u001b[0m\u001b[31m\n",
            "\u001b[0mSuccessfully installed gensim-4.3.3 numpy-1.26.4 scipy-1.13.1\n"
          ]
        },
        {
          "output_type": "display_data",
          "data": {
            "application/vnd.colab-display-data+json": {
              "pip_warning": {
                "packages": [
                  "numpy",
                  "scipy"
                ]
              },
              "id": "a1765b9685f44498acb1e7dd74d67573"
            }
          },
          "metadata": {}
        },
        {
          "output_type": "stream",
          "name": "stdout",
          "text": [
            "Requirement already satisfied: scikit-learn in /usr/local/lib/python3.12/dist-packages (1.6.1)\n",
            "Requirement already satisfied: numpy>=1.19.5 in /usr/local/lib/python3.12/dist-packages (from scikit-learn) (1.26.4)\n",
            "Requirement already satisfied: scipy>=1.6.0 in /usr/local/lib/python3.12/dist-packages (from scikit-learn) (1.13.1)\n",
            "Requirement already satisfied: joblib>=1.2.0 in /usr/local/lib/python3.12/dist-packages (from scikit-learn) (1.5.2)\n",
            "Requirement already satisfied: threadpoolctl>=3.1.0 in /usr/local/lib/python3.12/dist-packages (from scikit-learn) (3.6.0)\n"
          ]
        }
      ]
    },
    {
      "cell_type": "markdown",
      "source": [
        "# **Carga y Visualización Inicial**"
      ],
      "metadata": {
        "id": "Et-HxFJq5z3l"
      }
    },
    {
      "cell_type": "code",
      "source": [
        "# Importe de Librerías\n",
        "import re\n",
        "import nltk\n",
        "nltk.download('averaged_perceptron_tagger_eng')\n",
        "import numpy as np\n",
        "import pandas as pd\n",
        "from sklearn.datasets import fetch_20newsgroups\n",
        "from sklearn.metrics import accuracy_score, confusion_matrix\n",
        "import seaborn as sns\n",
        "import matplotlib.pyplot as plt\n",
        "from nltk.corpus import stopwords, wordnet\n",
        "from nltk.stem import WordNetLemmatizer\n",
        "import gensim\n",
        "from gensim import corpora\n",
        "from gensim.models import LdaModel, Phrases, CoherenceModel"
      ],
      "metadata": {
        "colab": {
          "base_uri": "https://localhost:8080/"
        },
        "id": "yGx4kjNUZa0V",
        "outputId": "0cfff277-a0f9-4064-cb28-30ab9aa274ba"
      },
      "execution_count": 7,
      "outputs": [
        {
          "output_type": "stream",
          "name": "stderr",
          "text": [
            "[nltk_data] Downloading package averaged_perceptron_tagger_eng to\n",
            "[nltk_data]     /root/nltk_data...\n",
            "[nltk_data]   Package averaged_perceptron_tagger_eng is already up-to-\n",
            "[nltk_data]       date!\n"
          ]
        }
      ]
    },
    {
      "cell_type": "code",
      "source": [
        "# Descarga de archivos y preparación inicial\n",
        "nltk.download('stopwords')\n",
        "nltk.download('wordnet')\n",
        "nltk.download('averaged_perceptron_tagger')\n",
        "nltk.download('omw-1.4')\n",
        "\n",
        "stop_words = set(stopwords.words('english'))\n",
        "stop_words.update(['from', 'subject', 're', 'edu', 'use', 'not', 'would', 'say', 'could', '_', 'be', 'it', 'will', 'also'])\n",
        "lemmatizer = WordNetLemmatizer()\n",
        "\n",
        "# Carga del Dataset, categorías (Entrenamiento y Test)\n",
        "categories = ['rec.sport.baseball', 'sci.electronics', 'comp.graphics', 'talk.politics.misc']\n",
        "train_data = fetch_20newsgroups(subset='train', categories=categories, remove=('headers', 'footers', 'quotes'))\n",
        "test_data = fetch_20newsgroups(subset='test', categories=categories, remove=('headers', 'footers', 'quotes'))"
      ],
      "metadata": {
        "colab": {
          "base_uri": "https://localhost:8080/"
        },
        "id": "GrPhGXEi2C6n",
        "outputId": "703a6edc-1467-44ab-8963-22546534fadb"
      },
      "execution_count": 8,
      "outputs": [
        {
          "output_type": "stream",
          "name": "stderr",
          "text": [
            "[nltk_data] Downloading package stopwords to /root/nltk_data...\n",
            "[nltk_data]   Package stopwords is already up-to-date!\n",
            "[nltk_data] Downloading package wordnet to /root/nltk_data...\n",
            "[nltk_data]   Package wordnet is already up-to-date!\n",
            "[nltk_data] Downloading package averaged_perceptron_tagger to\n",
            "[nltk_data]     /root/nltk_data...\n",
            "[nltk_data]   Package averaged_perceptron_tagger is already up-to-\n",
            "[nltk_data]       date!\n",
            "[nltk_data] Downloading package omw-1.4 to /root/nltk_data...\n",
            "[nltk_data]   Package omw-1.4 is already up-to-date!\n"
          ]
        }
      ]
    },
    {
      "cell_type": "markdown",
      "source": [
        "# **Procesamiento**"
      ],
      "metadata": {
        "id": "WUXi1wAM56m0"
      }
    },
    {
      "cell_type": "code",
      "source": [
        "# Preprocesamiento con conversión de tags (NLTK -> WordNet)\n",
        "def get_wordnet_pos(word):\n",
        "    tag = nltk.pos_tag([word])[0][1][0].upper()\n",
        "    tag_dict = {\"J\": wordnet.ADJ, \"N\": wordnet.NOUN, \"V\": wordnet.VERB, \"R\": wordnet.ADV}\n",
        "    return tag_dict.get(tag, wordnet.NOUN)\n",
        "\n",
        "# Filtrado por Nombres y Adjetivos para mayor precisión del modelo\n",
        "def preprocess_text_pos(text):\n",
        "    tokens = []\n",
        "    text = re.sub(r'[^a-zA-Z]', ' ', text.lower())\n",
        "    for word, tag in nltk.pos_tag(text.split()):\n",
        "        if tag.startswith('NN') or tag.startswith('JJ'):\n",
        "            if len(word) > 3 and word not in stop_words:\n",
        "                tokens.append(lemmatizer.lemmatize(word, get_wordnet_pos(word)))\n",
        "    return tokens\n",
        "\n",
        "processed_train_docs = [preprocess_text_pos(doc) for doc in train_data.data]\n",
        "processed_test_docs = [preprocess_text_pos(doc) for doc in test_data.data]\n",
        "\n",
        "# Creación de Bigramas y Trigramas\n",
        "bigram_model = Phrases(processed_train_docs, min_count=5, threshold=100)\n",
        "trigram_model = Phrases(bigram_model[processed_train_docs], threshold=100)\n",
        "processed_train_docs = [trigram_model[bigram_model[doc]] for doc in processed_train_docs]\n",
        "processed_test_docs = [trigram_model[bigram_model[doc]] for doc in processed_test_docs]"
      ],
      "metadata": {
        "id": "2hRXjkRB2D_c"
      },
      "execution_count": 9,
      "outputs": []
    },
    {
      "cell_type": "code",
      "source": [
        "# Creación de Diccionario + Corpus\n",
        "dictionary = corpora.Dictionary(processed_train_docs)\n",
        "dictionary.filter_extremes(no_below=20, no_above=0.4)\n",
        "\n",
        "train_corpus = [dictionary.doc2bow(doc) for doc in processed_train_docs]\n",
        "test_corpus = [dictionary.doc2bow(doc) for doc in processed_test_docs]"
      ],
      "metadata": {
        "id": "zvTWGcfp2EH8"
      },
      "execution_count": 10,
      "outputs": []
    },
    {
      "cell_type": "markdown",
      "source": [
        "# **Entrenamiento y Resultados**"
      ],
      "metadata": {
        "id": "MJZhp16z6eS9"
      }
    },
    {
      "cell_type": "code",
      "source": [
        "# Entrenamiento del Modelo\n",
        "lda_model = LdaModel(corpus=train_corpus, id2word=dictionary, num_topics=len(categories),\n",
        "                     random_state=100, passes=15, alpha=0.1, eta=0.1)"
      ],
      "metadata": {
        "id": "p4mGuFGB23Ia"
      },
      "execution_count": 11,
      "outputs": []
    },
    {
      "cell_type": "code",
      "source": [
        "# Impresión de temas descubiertos por el Modelo\n",
        "print(\"\\n----- Temas Descubiertos por el Modelo -----\")\n",
        "category_map = {v: k for k, v in topic_map.items()}\n",
        "category_names = train_data.target_names\n",
        "topics = lda_model.show_topics(formatted=False, num_words=10)\n",
        "for topic_num, topic_words in topics:\n",
        "    mapped_category_index = topic_map.get(topic_num, -1)\n",
        "    category_name = category_names[mapped_category_index] if mapped_category_index != -1 else \"Sin asignar\"\n",
        "    words = \", \".join([word for word, prop in topic_words])\n",
        "    print(f\"Tópico #{topic_num+1} (Asignado a: {category_name}):\\n  {words}\\n\")\n",
        "\n",
        "topic_category_dist = np.zeros((len(categories), len(categories)))\n",
        "for i, doc_corpus in enumerate(train_corpus):\n",
        "    doc_topics = lda_model.get_document_topics(doc_corpus, minimum_probability=0.2)\n",
        "    if doc_topics:\n",
        "        dominant_topic = max(doc_topics, key=lambda x: x[1])[0]\n",
        "        true_category_index = train_data.target[i]\n",
        "        topic_category_dist[dominant_topic, true_category_index] += 1\n",
        "topic_map = {i: np.argmax(topic_category_dist[i]) for i in range(len(categories))}"
      ],
      "metadata": {
        "colab": {
          "base_uri": "https://localhost:8080/"
        },
        "id": "LkzXzQoU27hV",
        "outputId": "6d74371e-d93d-4c54-d3b4-677391830a2b"
      },
      "execution_count": 12,
      "outputs": [
        {
          "output_type": "stream",
          "name": "stdout",
          "text": [
            "\n",
            "----- Temas Descubiertos por el Modelo -----\n",
            "Tópico #1 (Asignado a: talk.politics.misc):\n",
            "  people, government, drug, state, system, issue, right, american, many, fact\n",
            "\n",
            "Tópico #2 (Asignado a: rec.sport.baseball):\n",
            "  year, game, time, good, president, player, team, last, well, first\n",
            "\n",
            "Tópico #3 (Asignado a: sci.electronics):\n",
            "  point, circuit, line, problem, power, voltage, ground, screen, wire, output\n",
            "\n",
            "Tópico #4 (Asignado a: comp.graphics):\n",
            "  image, file, system, graphic, program, anyone, data, software, information, computer\n",
            "\n"
          ]
        }
      ]
    },
    {
      "cell_type": "code",
      "source": [
        "## Predicción + Precisión\n",
        "y_pred = []\n",
        "y_true = test_data.target\n",
        "for doc_corpus in test_corpus:\n",
        "    doc_topics = lda_model.get_document_topics(doc_corpus, minimum_probability=0.2)\n",
        "    if doc_topics:\n",
        "        dominant_topic = max(doc_topics, key=lambda x: x[1])[0]\n",
        "        y_pred.append(topic_map.get(dominant_topic, -1))\n",
        "    else:\n",
        "        y_pred.append(-1)\n",
        "accuracy = accuracy_score(y_true, y_pred)\n",
        "print(f\"----- Precisión del Modelo -----\")\n",
        "print(f\"La precisión (accuracy) del modelo en el conjunto de prueba es: {accuracy:.2%}\\n\")\n",
        "\n",
        "## Matriz de Confusión (sin cambios)\n",
        "conf_matrix = confusion_matrix(y_true, y_pred)\n",
        "plt.figure(figsize=(8, 6))\n",
        "sns.heatmap(conf_matrix, annot=True, fmt='d', cmap='Blues', xticklabels=categories, yticklabels=categories)\n",
        "plt.xlabel('Categoría Predicha')\n",
        "plt.ylabel('Categoría Real')\n",
        "plt.title('Matriz de Confusión Final')\n",
        "plt.show()"
      ],
      "metadata": {
        "colab": {
          "base_uri": "https://localhost:8080/",
          "height": 620
        },
        "id": "sGRR1Ej23FYW",
        "outputId": "c2782c4a-877a-4800-cbca-afdb22f618b9"
      },
      "execution_count": 13,
      "outputs": [
        {
          "output_type": "stream",
          "name": "stdout",
          "text": [
            "----- Precisión del Modelo -----\n",
            "La precisión (accuracy) del modelo en el conjunto de prueba es: 65.35%\n",
            "\n"
          ]
        },
        {
          "output_type": "display_data",
          "data": {
            "text/plain": [
              "<Figure size 800x600 with 2 Axes>"
            ],
            "image/png": "[encoded data removed]"
          },
          "metadata": {}
        }
      ]
    }
  ]
}