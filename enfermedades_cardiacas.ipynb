{
  "nbformat": 4,
  "nbformat_minor": 0,
  "metadata": {
    "colab": {
      "provenance": [],
      "toc_visible": true
    },
    "kernelspec": {
      "name": "python3",
      "display_name": "Python 3"
    },
    "language_info": {
      "name": "python"
    }
  },
  "cells": [
    {
      "cell_type": "markdown",
      "source": [
        "# **Desarrollo: \"Prediciendo Enfermedades Cardíacas\"**"
      ],
      "metadata": {
        "id": "nv7Pd0-Ll3Fe"
      }
    },
    {
      "cell_type": "markdown",
      "source": [
        "# **Importación de Librerías**"
      ],
      "metadata": {
        "id": "P0qxTozS5drf"
      }
    },
    {
      "cell_type": "code",
      "execution_count": 1,
      "metadata": {
        "id": "QVMTYYIYazFr"
      },
      "outputs": [],
      "source": [
        "# Importando librerías (datos y vista)\n",
        "import pandas as pd\n",
        "import seaborn as sns\n",
        "import matplotlib.pyplot as plt\n",
        "\n",
        "# Importando herramientas para Machine Learning\n",
        "from sklearn.model_selection import train_test_split\n",
        "from sklearn.preprocessing import StandardScaler\n",
        "from sklearn.linear_model import LogisticRegression\n",
        "from sklearn.metrics import accuracy_score, confusion_matrix\n",
        "# Configuración para que los gráficos se muestren en el notebook\n",
        "%matplotlib inline"
      ]
    },
    {
      "cell_type": "markdown",
      "source": [
        "# **- Carga y Visualización Inicial**\n",
        "Se carga el archivo como Dataframe (\"df\") y se realiza la primer inspección con las funciones solicitadas:"
      ],
      "metadata": {
        "id": "569oPlcr5kcr"
      }
    },
    {
      "cell_type": "code",
      "source": [
        "# Cargando el dataset con el archivo 'heart_disease_uci.csv'\n",
        "df = pd.read_csv('heart_disease_uci.csv')\n",
        "\n",
        "# Usando .head() para inspección inicial\n",
        "print(\"Primeras 5 filas del dataset:\")\n",
        "print(df.head())\n",
        "print(\"\\n\" + \"=\"*50 + \"\\n\")\n",
        "\n",
        "# Usando .info() para ver tipos de datos y valores\n",
        "print(\"Información general del dataset:\")\n",
        "df.info()\n",
        "print(\"\\n\" + \"=\"*50 + \"\\n\")\n",
        "\n",
        "# Usando .describe() para resumen\n",
        "print(\"Resumen estadístico de las variables numéricas:\")\n",
        "print(df.describe())"
      ],
      "metadata": {
        "colab": {
          "base_uri": "https://localhost:8080/"
        },
        "id": "ukRf8152lGcP",
        "outputId": "dcac562f-0ec0-4ac5-945c-a9fb4c4f5443"
      },
      "execution_count": 2,
      "outputs": [
        {
          "output_type": "stream",
          "name": "stdout",
          "text": [
            "Primeras 5 filas del dataset:\n",
            "   id  age     sex    dataset               cp  trestbps   chol    fbs  \\\n",
            "0   1   63    Male  Cleveland   typical angina     145.0  233.0   True   \n",
            "1   2   67    Male  Cleveland     asymptomatic     160.0  286.0  False   \n",
            "2   3   67    Male  Cleveland     asymptomatic     120.0  229.0  False   \n",
            "3   4   37    Male  Cleveland      non-anginal     130.0  250.0  False   \n",
            "4   5   41  Female  Cleveland  atypical angina     130.0  204.0  False   \n",
            "\n",
            "          restecg  thalch  exang  oldpeak        slope   ca  \\\n",
            "0  lv hypertrophy   150.0  False      2.3  downsloping  0.0   \n",
            "1  lv hypertrophy   108.0   True      1.5         flat  3.0   \n",
            "2  lv hypertrophy   129.0   True      2.6         flat  2.0   \n",
            "3          normal   187.0  False      3.5  downsloping  0.0   \n",
            "4  lv hypertrophy   172.0  False      1.4    upsloping  0.0   \n",
            "\n",
            "                thal  num  \n",
            "0       fixed defect    0  \n",
            "1             normal    2  \n",
            "2  reversable defect    1  \n",
            "3             normal    0  \n",
            "4             normal    0  \n",
            "\n",
            "==================================================\n",
            "\n",
            "Información general del dataset:\n",
            "<class 'pandas.core.frame.DataFrame'>\n",
            "RangeIndex: 920 entries, 0 to 919\n",
            "Data columns (total 16 columns):\n",
            " #   Column    Non-Null Count  Dtype  \n",
            "---  ------    --------------  -----  \n",
            " 0   id        920 non-null    int64  \n",
            " 1   age       920 non-null    int64  \n",
            " 2   sex       920 non-null    object \n",
            " 3   dataset   920 non-null    object \n",
            " 4   cp        920 non-null    object \n",
            " 5   trestbps  861 non-null    float64\n",
            " 6   chol      890 non-null    float64\n",
            " 7   fbs       830 non-null    object \n",
            " 8   restecg   918 non-null    object \n",
            " 9   thalch    865 non-null    float64\n",
            " 10  exang     865 non-null    object \n",
            " 11  oldpeak   858 non-null    float64\n",
            " 12  slope     611 non-null    object \n",
            " 13  ca        309 non-null    float64\n",
            " 14  thal      434 non-null    object \n",
            " 15  num       920 non-null    int64  \n",
            "dtypes: float64(5), int64(3), object(8)\n",
            "memory usage: 115.1+ KB\n",
            "\n",
            "==================================================\n",
            "\n",
            "Resumen estadístico de las variables numéricas:\n",
            "               id         age    trestbps        chol      thalch     oldpeak  \\\n",
            "count  920.000000  920.000000  861.000000  890.000000  865.000000  858.000000   \n",
            "mean   460.500000   53.510870  132.132404  199.130337  137.545665    0.878788   \n",
            "std    265.725422    9.424685   19.066070  110.780810   25.926276    1.091226   \n",
            "min      1.000000   28.000000    0.000000    0.000000   60.000000   -2.600000   \n",
            "25%    230.750000   47.000000  120.000000  175.000000  120.000000    0.000000   \n",
            "50%    460.500000   54.000000  130.000000  223.000000  140.000000    0.500000   \n",
            "75%    690.250000   60.000000  140.000000  268.000000  157.000000    1.500000   \n",
            "max    920.000000   77.000000  200.000000  603.000000  202.000000    6.200000   \n",
            "\n",
            "               ca         num  \n",
            "count  309.000000  920.000000  \n",
            "mean     0.676375    0.995652  \n",
            "std      0.935653    1.142693  \n",
            "min      0.000000    0.000000  \n",
            "25%      0.000000    0.000000  \n",
            "50%      0.000000    1.000000  \n",
            "75%      1.000000    2.000000  \n",
            "max      3.000000    4.000000  \n"
          ]
        }
      ]
    },
    {
      "cell_type": "markdown",
      "source": [
        "# **- Distribución de variables objetivo**\n",
        "Para determinar si tenemos un dataset balanceado o no vamos a tomar dos variables categóricas: 'cp' y 'restecg' usando seaborn.countplot para ver su distribución así:"
      ],
      "metadata": {
        "id": "MGmb9vQN4zRb"
      }
    },
    {
      "cell_type": "code",
      "source": [
        "# Visualizando la distribución de la variable objetivo (cp)\n",
        "plt.figure(figsize=(7, 5))\n",
        "sns.countplot(x='cp', data=df)\n",
        "plt.title('Distribución de la Variable Objetivo')\n",
        "plt.xlabel('Diagnóstico')\n",
        "plt.ylabel('Cantidad de Pacientes')\n",
        "plt.show()\n",
        "\n",
        "# Generando el balance para \"cp\"\n",
        "balance_cp = df['cp'].value_counts()\n",
        "print(balance_cp)\n",
        "print(\"\\nConclusión: El dataset no está bien balanceado.\")\n",
        "\n",
        "# Visualizando la distribución de la variable objetivo (restecg)\n",
        "plt.figure(figsize=(7, 5))\n",
        "sns.countplot(x='restecg', data=df)\n",
        "plt.title('Distribución de la Variable Objetivo')\n",
        "plt.xlabel('Diagnóstico')\n",
        "plt.ylabel('Cantidad de Pacientes')\n",
        "plt.show()\n",
        "\n",
        "# Generando el balance para \"restecg\"\n",
        "balance_restecg = df['restecg'].value_counts()\n",
        "print(balance_restecg)\n",
        "print(\"\\nConclusión: El dataset no está bien balanceado.\")"
      ],
      "metadata": {
        "colab": {
          "base_uri": "https://localhost:8080/",
          "height": 1000
        },
        "id": "tu86wEBhlKBl",
        "outputId": "c8570f4f-2d62-415a-b1f1-918900d5e028"
      },
      "execution_count": 3,
      "outputs": [
        {
          "output_type": "display_data",
          "data": {
            "text/plain": [
              "<Figure size 700x500 with 1 Axes>"
            ],
            "image/png": "[encoded data removed]"
          },
          "metadata": {}
        },
        {
          "output_type": "stream",
          "name": "stdout",
          "text": [
            "cp\n",
            "asymptomatic       496\n",
            "non-anginal        204\n",
            "atypical angina    174\n",
            "typical angina      46\n",
            "Name: count, dtype: int64\n",
            "\n",
            "Conclusión: El dataset no está bien balanceado.\n"
          ]
        },
        {
          "output_type": "display_data",
          "data": {
            "text/plain": [
              "<Figure size 700x500 with 1 Axes>"
            ],
            "image/png": "[encoded data removed]"
          },
          "metadata": {}
        },
        {
          "output_type": "stream",
          "name": "stdout",
          "text": [
            "restecg\n",
            "normal              551\n",
            "lv hypertrophy      188\n",
            "st-t abnormality    179\n",
            "Name: count, dtype: int64\n",
            "\n",
            "Conclusión: El dataset no está bien balanceado.\n"
          ]
        }
      ]
    },
    {
      "cell_type": "markdown",
      "source": [
        "# **¿El dataset está balanceado?**\n",
        "Podríamos afirmar que **el dataset NO está balanceado** ya que tenemos demasiados registros de un solo diagnostico posible respecto a los demás con una gran cantidad de registros para las variables categóricas revisadas:  \n",
        "Para **'cp'** tenemos demasiados pacientes como **\"asymptomatic\"**, exactamente **el 53,9% de los casos.**\n",
        "mientras que para **'restecg'** la mayoría de **pacientes, el 60%** para ser precisos tienen un **\"normal diagnostico\"**\n",
        "Lo que hace que la información del Dataset no esté balanceada. De hecho la información de ambas columnas al completo es la siguiente:\n",
        "\n",
        "**CP:**\n",
        "* asymptomatic: 496 -> 53,91%\n",
        "* non-anginal: 204 -> 22,17%\n",
        "* atypical angina: 174 -> 18,91%\n",
        "* typical angina: 46 -> 5%\n",
        "\n",
        "**RESTEG:**\n",
        "* normal: 551 -> 60,02%\n",
        "* lv hypertrophy: 188 -> 20,47%\n",
        "* st-t abnormality: 179 -> 19,49%\n",
        "\n"
      ],
      "metadata": {
        "id": "x4uYuF_ktuqh"
      }
    },
    {
      "cell_type": "markdown",
      "source": [
        "# **- Limpieza y Preprocesamiento**\n",
        "Se valida si hay valores nulos, al haber, se procede al tratamiento de los mismos con borrados o aplicaciones de media, mediana y moda, según el caso:"
      ],
      "metadata": {
        "id": "qKun4GQwlRjN"
      }
    },
    {
      "cell_type": "code",
      "source": [
        "# Verificar si hay valores nulos\n",
        "print(\"Cantidad de valores nulos por columna:\")\n",
        "print(df.isnull().sum())"
      ],
      "metadata": {
        "colab": {
          "base_uri": "https://localhost:8080/"
        },
        "id": "lV7yxO82lPQ_",
        "outputId": "e71bdb80-eb79-4d28-a3de-f9275daae2c1"
      },
      "execution_count": 4,
      "outputs": [
        {
          "output_type": "stream",
          "name": "stdout",
          "text": [
            "Cantidad de valores nulos por columna:\n",
            "id            0\n",
            "age           0\n",
            "sex           0\n",
            "dataset       0\n",
            "cp            0\n",
            "trestbps     59\n",
            "chol         30\n",
            "fbs          90\n",
            "restecg       2\n",
            "thalch       55\n",
            "exang        55\n",
            "oldpeak      62\n",
            "slope       309\n",
            "ca          611\n",
            "thal        486\n",
            "num           0\n",
            "dtype: int64\n"
          ]
        }
      ]
    },
    {
      "cell_type": "code",
      "source": [
        "# Eliminando columnas con muchos valores nulos\n",
        "columnas_a_eliminar = ['ca', 'thal', 'slope']\n",
        "df.drop(columns=columnas_a_eliminar, inplace=True)\n",
        "print(\"Columnas 'ca', 'thal' y 'slope' eliminadas correctamente\")\n",
        "\n",
        "# Imputando valores nulos en columnas restantes con MEDIANA y MODA\n",
        "\n",
        "# Imputando columnas numéricas con la MEDIANA\n",
        "columnas_numericas = ['trestbps', 'chol', 'thalch', 'oldpeak']\n",
        "for columna in columnas_numericas:\n",
        "    mediana = df[columna].median()\n",
        "    df[columna].fillna(mediana, inplace=True)\n",
        "print(\"Columnas numéricas imputadas correctamente\")\n",
        "\n",
        "# Imputando columnas categóricas con la MODA\n",
        "columnas_categoricas = ['fbs', 'restecg', 'exang']\n",
        "for columna in columnas_categoricas:\n",
        "    moda = df[columna].mode()[0]\n",
        "    df[columna].fillna(moda, inplace=True)\n",
        "print(\"Columnas categóricas imputadas correctamente\")"
      ],
      "metadata": {
        "colab": {
          "base_uri": "https://localhost:8080/"
        },
        "id": "O7scm397Ecoq",
        "outputId": "4a0f5ab9-2a37-4e74-e31c-31140bb029be"
      },
      "execution_count": 5,
      "outputs": [
        {
          "output_type": "stream",
          "name": "stdout",
          "text": [
            "Columnas 'ca', 'thal' y 'slope' eliminadas correctamente\n",
            "Columnas numéricas imputadas correctamente\n",
            "Columnas categóricas imputadas correctamente\n"
          ]
        },
        {
          "output_type": "stream",
          "name": "stderr",
          "text": [
            "/tmp/ipython-input-3862299907.py:12: FutureWarning: A value is trying to be set on a copy of a DataFrame or Series through chained assignment using an inplace method.\n",
            "The behavior will change in pandas 3.0. This inplace method will never work because the intermediate object on which we are setting values always behaves as a copy.\n",
            "\n",
            "For example, when doing 'df[col].method(value, inplace=True)', try using 'df.method({col: value}, inplace=True)' or df[col] = df[col].method(value) instead, to perform the operation inplace on the original object.\n",
            "\n",
            "\n",
            "  df[columna].fillna(mediana, inplace=True)\n",
            "/tmp/ipython-input-3862299907.py:19: FutureWarning: A value is trying to be set on a copy of a DataFrame or Series through chained assignment using an inplace method.\n",
            "The behavior will change in pandas 3.0. This inplace method will never work because the intermediate object on which we are setting values always behaves as a copy.\n",
            "\n",
            "For example, when doing 'df[col].method(value, inplace=True)', try using 'df.method({col: value}, inplace=True)' or df[col] = df[col].method(value) instead, to perform the operation inplace on the original object.\n",
            "\n",
            "\n",
            "  df[columna].fillna(moda, inplace=True)\n",
            "/tmp/ipython-input-3862299907.py:19: FutureWarning: Downcasting object dtype arrays on .fillna, .ffill, .bfill is deprecated and will change in a future version. Call result.infer_objects(copy=False) instead. To opt-in to the future behavior, set `pd.set_option('future.no_silent_downcasting', True)`\n",
            "  df[columna].fillna(moda, inplace=True)\n"
          ]
        }
      ]
    },
    {
      "cell_type": "code",
      "source": [
        "# Verificando que no queden valores nulos\n",
        "print(\"\\n--- Verificación Final de Valores Nulos ---\")\n",
        "print(\"Conteo de nulos después de la eliminación e imputación:\")\n",
        "print(df.isnull().sum())"
      ],
      "metadata": {
        "colab": {
          "base_uri": "https://localhost:8080/"
        },
        "id": "-gLtzOHAGmg4",
        "outputId": "5ecb257d-a141-4c4f-9b4a-3e11771ba986"
      },
      "execution_count": 6,
      "outputs": [
        {
          "output_type": "stream",
          "name": "stdout",
          "text": [
            "\n",
            "--- Verificación Final de Valores Nulos ---\n",
            "Conteo de nulos después de la eliminación e imputación:\n",
            "id          0\n",
            "age         0\n",
            "sex         0\n",
            "dataset     0\n",
            "cp          0\n",
            "trestbps    0\n",
            "chol        0\n",
            "fbs         0\n",
            "restecg     0\n",
            "thalch      0\n",
            "exang       0\n",
            "oldpeak     0\n",
            "num         0\n",
            "dtype: int64\n"
          ]
        }
      ]
    },
    {
      "cell_type": "markdown",
      "source": [
        "# **- División y Escalamiento de Datos:**\n",
        "Se dividen los datos del dataset con train_test_split. El 80% será para entrenar el módelo (alimentarlo de datos) y el 20% restante será para realizar pruebas una vez se escale la primer parte de la data con StandardScaler"
      ],
      "metadata": {
        "id": "7v8z8FIPH15V"
      }
    },
    {
      "cell_type": "markdown",
      "source": [
        "**Importante:** StandardScaler es una operación matemática (calcula la media y la desviación estándar) por lo que solo funciona con números, para ello se debe tomar únicamente las columnas con un tipo de dato congruente para su funconamento sin errores"
      ],
      "metadata": {
        "id": "SOQewUPTKZgl"
      }
    },
    {
      "cell_type": "code",
      "source": [
        "# Separando Dataset en características (X) y variable objetivo (y)\n",
        "X = df.drop('num', axis=1)\n",
        "y = df['num']\n",
        "\n",
        "print(\"Características y objetivo definidos\")\n",
        "print(\"Dimensiones iniciales de X:\", X.shape)\n",
        "print(\"\\n\" + \"=\"*50 + \"\\n\")\n",
        "\n",
        "\n",
        "# Identificando / convirtiendo las columnas categóricas (de tipo 'object' (texto)) a numéricas\n",
        "columnas_categoricas = X.select_dtypes(include=['object']).columns\n",
        "\n",
        "if not columnas_categoricas.empty:\n",
        "    print(f\"Casteando columnas categóricas: {list(columnas_categoricas)}\")\n",
        "    # Se aplica One-Hot Encoding para convertir el texto a números (0s y 1s)\n",
        "    X_encoded = pd.get_dummies(X, columns=columnas_categoricas, drop_first=True)\n",
        "    print(\"Dimensiones de X después del cambio:\", X_encoded.shape)\n",
        "else:\n",
        "    print(\"No se encontraron columnas categóricas para codificar\")\n",
        "    X_encoded = X\n",
        "\n",
        "print(\"Vista de los datos (ahora 100% numéricos):\")\n",
        "print(X_encoded.head())\n",
        "print(\"\\n\" + \"=\"*50 + \"\\n\")\n",
        "\n",
        "\n",
        "# Dividiendo los datos en conjuntos de entrenamiento y prueba\n",
        "X_train, X_test, y_train, y_test = train_test_split(X_encoded, y, test_size=0.2, random_state=42)\n",
        "\n",
        "print(\"Datos divididos en entrenamiento (80%) y prueba (20%)\")\n",
        "print(\"Muestras de entrenamiento:\", X_train.shape[0])\n",
        "print(\"Muestras de prueba:\", X_test.shape[0])\n",
        "print(\"\\n\" + \"=\"*50 + \"\\n\")\n",
        "\n",
        "\n",
        "# Escalando las características ya que, ahora sí, StandardScaler debería funcionar porque todos los datos son numéricos\n",
        "scaler = StandardScaler()\n",
        "\n",
        "# Ajustando el escalador solo con los datos de entrenamiento y se transforman\n",
        "X_train_scaled = scaler.fit_transform(X_train)\n",
        "\n",
        "# Transformando los datos de prueba con el escalador (ya ajustado)\n",
        "X_test_scaled = scaler.transform(X_test)\n",
        "\n",
        "print(\"Datos escalados exitosamente! (por fin)\")\n",
        "print(\"Las variables 'X_train_scaled' y 'X_test_scaled' están listas para el modelo\")"
      ],
      "metadata": {
        "colab": {
          "base_uri": "https://localhost:8080/"
        },
        "id": "L7ytmYDsN9de",
        "outputId": "f2ccced8-6400-46a4-fe76-68bbc3126c29"
      },
      "execution_count": 13,
      "outputs": [
        {
          "output_type": "stream",
          "name": "stdout",
          "text": [
            "Características y objetivo definidos\n",
            "Dimensiones iniciales de X: (920, 12)\n",
            "\n",
            "==================================================\n",
            "\n",
            "Casteando columnas categóricas: ['sex', 'dataset', 'cp', 'restecg']\n",
            "Dimensiones de X después del cambio: (920, 17)\n",
            "Vista de los datos (ahora 100% numéricos):\n",
            "   id  age  trestbps   chol    fbs  thalch  exang  oldpeak  sex_Male  \\\n",
            "0   1   63     145.0  233.0   True   150.0  False      2.3      True   \n",
            "1   2   67     160.0  286.0  False   108.0   True      1.5      True   \n",
            "2   3   67     120.0  229.0  False   129.0   True      2.6      True   \n",
            "3   4   37     130.0  250.0  False   187.0  False      3.5      True   \n",
            "4   5   41     130.0  204.0  False   172.0  False      1.4     False   \n",
            "\n",
            "   dataset_Hungary  dataset_Switzerland  dataset_VA Long Beach  \\\n",
            "0            False                False                  False   \n",
            "1            False                False                  False   \n",
            "2            False                False                  False   \n",
            "3            False                False                  False   \n",
            "4            False                False                  False   \n",
            "\n",
            "   cp_atypical angina  cp_non-anginal  cp_typical angina  restecg_normal  \\\n",
            "0               False           False               True           False   \n",
            "1               False           False              False           False   \n",
            "2               False           False              False           False   \n",
            "3               False            True              False            True   \n",
            "4                True           False              False           False   \n",
            "\n",
            "   restecg_st-t abnormality  \n",
            "0                     False  \n",
            "1                     False  \n",
            "2                     False  \n",
            "3                     False  \n",
            "4                     False  \n",
            "\n",
            "==================================================\n",
            "\n",
            "Datos divididos en entrenamiento (80%) y prueba (20%)\n",
            "Muestras de entrenamiento: 736\n",
            "Muestras de prueba: 184\n",
            "\n",
            "==================================================\n",
            "\n",
            "Datos escalados exitosamente! (por fin)\n",
            "Las variables 'X_train_scaled' y 'X_test_scaled' están listas para el modelo\n"
          ]
        }
      ]
    },
    {
      "cell_type": "markdown",
      "source": [
        "# **- Entrenamiento del Modelo:**\n",
        "Se crea el modelo (LogisticRegression) y se entrena con fit"
      ],
      "metadata": {
        "id": "cn7fRIk4lg2I"
      }
    },
    {
      "cell_type": "code",
      "source": [
        "# Creando y entrenando al modelo de LogisticRegression\n",
        "modelo = LogisticRegression()\n",
        "modelo.fit(X_train_scaled, y_train)\n",
        "\n",
        "print(\"Modelo de Regresión entrenado exitosamente!\")"
      ],
      "metadata": {
        "colab": {
          "base_uri": "https://localhost:8080/"
        },
        "id": "tvYehV4plkib",
        "outputId": "bc8b4f3e-822b-40f4-c1c1-5d029061dfd9"
      },
      "execution_count": 15,
      "outputs": [
        {
          "output_type": "stream",
          "name": "stdout",
          "text": [
            "Modelo de Regresión entrenado exitosamente!\n"
          ]
        }
      ]
    },
    {
      "cell_type": "markdown",
      "source": [
        "# **- Predicción y Evaluación + Métricas de Rendimiento:**\n",
        "Se prueba el modelo con el 20% de la data destinada para ello, creando una predicción con predict() y de paso se calculan sus métricas tanto \"Accuracy\" como \"La Matriz de Confusión\""
      ],
      "metadata": {
        "id": "tTjSsMqalqnq"
      }
    },
    {
      "cell_type": "code",
      "source": [
        "# Usando el modelo entrenado para hacer predicciones sobre el set de prueba\n",
        "prediction = modelo.predict(X_test_scaled)\n",
        "\n",
        "# Calculando la exactitud (Accuracy)\n",
        "accuracy = accuracy_score(y_test, prediction)\n",
        "print(f\"La exactitud (Accuracy) del modelo es: {accuracy:.2f}\")\n",
        "\n",
        "# Calculando la Matriz de Confusión\n",
        "cm = confusion_matrix(y_test, prediction)\n",
        "\n",
        "# Visualizando la Matriz de Confusión con un mapa de calor\n",
        "plt.figure(figsize=(8, 6))\n",
        "sns.heatmap(cm, annot=True, fmt='d', cmap='Blues',\n",
        "            xticklabels=['No Enfermedad', 'Sí Enfermedad'],\n",
        "            yticklabels=['No Enfermedad', 'Sí Enfermedad'])\n",
        "plt.title('Matriz de Confusión')\n",
        "plt.ylabel('Valor Real')\n",
        "plt.xlabel('Predicción del Modelo')\n",
        "plt.show()"
      ],
      "metadata": {
        "colab": {
          "base_uri": "https://localhost:8080/",
          "height": 676
        },
        "id": "AVQuXiqSlsNO",
        "outputId": "0bf949a9-7e49-46fc-922f-8e17a80fbbc7"
      },
      "execution_count": 16,
      "outputs": [
        {
          "output_type": "stream",
          "name": "stdout",
          "text": [
            "La exactitud (Accuracy) del modelo es: 0.54\n"
          ]
        },
        {
          "output_type": "display_data",
          "data": {
            "text/plain": [
              "<Figure size 800x600 with 2 Axes>"
            ],
            "image/png": "[encoded data removed]"
          },
          "metadata": {}
        }
      ]
    },
    {
      "cell_type": "markdown",
      "source": [
        "## **Conclusión del Proyecto**\n",
        "\n",
        "El objetivo de este proyecto era construir un modelo de machine learning para clasificar si un paciente tiene una enfermedad cardíaca basándose en datos clínicos. Se utilizó un modelo de **Regresión Logística**.\n",
        "\n",
        "### **Rendimiento del Modelo**\n",
        "\n",
        "El modelo alcanzó una **exactitud (accuracy) de aproximadamente 0.5 (50%)** en el conjunto de datos de prueba. Esto significa que la mitad de las veces, el modelo fue capaz de predecir correctamente si un paciente tenía o no una enfermedad cardíaca y esto es bueno, teniendo en cuenta que se trata de una muestra o conjunto de datos desequilibrados (dataset desbalanceado).\n",
        "\n",
        "En resumen, el modelo de Regresión Logística demuestra ser un clasificador funcional y prometedor para esta tarea, con un buen equilibrio entre la predicción de pacientes sanos y enfermos."
      ],
      "metadata": {
        "id": "CoUSvwHKlvS_"
      }
    }
  ]
}